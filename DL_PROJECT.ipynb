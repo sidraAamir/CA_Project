{
  "nbformat": 4,
  "nbformat_minor": 0,
  "metadata": {
    "colab": {
      "provenance": [],
      "authorship_tag": "ABX9TyMVVDffMhsOZniWh9ZtNx60",
      "include_colab_link": true
    },
    "kernelspec": {
      "name": "python3",
      "display_name": "Python 3"
    },
    "language_info": {
      "name": "python"
    }
  },
  "cells": [
    {
      "cell_type": "markdown",
      "metadata": {
        "id": "view-in-github",
        "colab_type": "text"
      },
      "source": [
        "<a href=\"https://colab.research.google.com/github/sidraAamir/CA_Project/blob/main/DL_PROJECT.ipynb\" target=\"_parent\"><img src=\"https://colab.research.google.com/assets/colab-badge.svg\" alt=\"Open In Colab\"/></a>"
      ]
    },
    {
      "cell_type": "code",
      "execution_count": 1,
      "metadata": {
        "colab": {
          "base_uri": "https://localhost:8080/"
        },
        "collapsed": true,
        "id": "rER1SVdIX_Hs",
        "outputId": "89d88d71-a384-44cb-a822-6b1fe408ff8c"
      },
      "outputs": [
        {
          "output_type": "stream",
          "name": "stdout",
          "text": [
            "Requirement already satisfied: transformers in /usr/local/lib/python3.10/dist-packages (4.44.2)\n",
            "Collecting datasets\n",
            "  Downloading datasets-3.1.0-py3-none-any.whl.metadata (20 kB)\n",
            "Requirement already satisfied: torch in /usr/local/lib/python3.10/dist-packages (2.5.0+cu121)\n",
            "Requirement already satisfied: nltk in /usr/local/lib/python3.10/dist-packages (3.8.1)\n",
            "Requirement already satisfied: filelock in /usr/local/lib/python3.10/dist-packages (from transformers) (3.16.1)\n",
            "Requirement already satisfied: huggingface-hub<1.0,>=0.23.2 in /usr/local/lib/python3.10/dist-packages (from transformers) (0.24.7)\n",
            "Requirement already satisfied: numpy>=1.17 in /usr/local/lib/python3.10/dist-packages (from transformers) (1.26.4)\n",
            "Requirement already satisfied: packaging>=20.0 in /usr/local/lib/python3.10/dist-packages (from transformers) (24.1)\n",
            "Requirement already satisfied: pyyaml>=5.1 in /usr/local/lib/python3.10/dist-packages (from transformers) (6.0.2)\n",
            "Requirement already satisfied: regex!=2019.12.17 in /usr/local/lib/python3.10/dist-packages (from transformers) (2024.9.11)\n",
            "Requirement already satisfied: requests in /usr/local/lib/python3.10/dist-packages (from transformers) (2.32.3)\n",
            "Requirement already satisfied: safetensors>=0.4.1 in /usr/local/lib/python3.10/dist-packages (from transformers) (0.4.5)\n",
            "Requirement already satisfied: tokenizers<0.20,>=0.19 in /usr/local/lib/python3.10/dist-packages (from transformers) (0.19.1)\n",
            "Requirement already satisfied: tqdm>=4.27 in /usr/local/lib/python3.10/dist-packages (from transformers) (4.66.6)\n",
            "Requirement already satisfied: pyarrow>=15.0.0 in /usr/local/lib/python3.10/dist-packages (from datasets) (17.0.0)\n",
            "Collecting dill<0.3.9,>=0.3.0 (from datasets)\n",
            "  Downloading dill-0.3.8-py3-none-any.whl.metadata (10 kB)\n",
            "Requirement already satisfied: pandas in /usr/local/lib/python3.10/dist-packages (from datasets) (2.2.2)\n",
            "Collecting xxhash (from datasets)\n",
            "  Downloading xxhash-3.5.0-cp310-cp310-manylinux_2_17_x86_64.manylinux2014_x86_64.whl.metadata (12 kB)\n",
            "Collecting multiprocess<0.70.17 (from datasets)\n",
            "  Downloading multiprocess-0.70.16-py310-none-any.whl.metadata (7.2 kB)\n",
            "Collecting fsspec<=2024.9.0,>=2023.1.0 (from fsspec[http]<=2024.9.0,>=2023.1.0->datasets)\n",
            "  Downloading fsspec-2024.9.0-py3-none-any.whl.metadata (11 kB)\n",
            "Requirement already satisfied: aiohttp in /usr/local/lib/python3.10/dist-packages (from datasets) (3.10.10)\n",
            "Requirement already satisfied: typing-extensions>=4.8.0 in /usr/local/lib/python3.10/dist-packages (from torch) (4.12.2)\n",
            "Requirement already satisfied: networkx in /usr/local/lib/python3.10/dist-packages (from torch) (3.4.2)\n",
            "Requirement already satisfied: jinja2 in /usr/local/lib/python3.10/dist-packages (from torch) (3.1.4)\n",
            "Requirement already satisfied: sympy==1.13.1 in /usr/local/lib/python3.10/dist-packages (from torch) (1.13.1)\n",
            "Requirement already satisfied: mpmath<1.4,>=1.1.0 in /usr/local/lib/python3.10/dist-packages (from sympy==1.13.1->torch) (1.3.0)\n",
            "Requirement already satisfied: click in /usr/local/lib/python3.10/dist-packages (from nltk) (8.1.7)\n",
            "Requirement already satisfied: joblib in /usr/local/lib/python3.10/dist-packages (from nltk) (1.4.2)\n",
            "Requirement already satisfied: aiohappyeyeballs>=2.3.0 in /usr/local/lib/python3.10/dist-packages (from aiohttp->datasets) (2.4.3)\n",
            "Requirement already satisfied: aiosignal>=1.1.2 in /usr/local/lib/python3.10/dist-packages (from aiohttp->datasets) (1.3.1)\n",
            "Requirement already satisfied: attrs>=17.3.0 in /usr/local/lib/python3.10/dist-packages (from aiohttp->datasets) (24.2.0)\n",
            "Requirement already satisfied: frozenlist>=1.1.1 in /usr/local/lib/python3.10/dist-packages (from aiohttp->datasets) (1.5.0)\n",
            "Requirement already satisfied: multidict<7.0,>=4.5 in /usr/local/lib/python3.10/dist-packages (from aiohttp->datasets) (6.1.0)\n",
            "Requirement already satisfied: yarl<2.0,>=1.12.0 in /usr/local/lib/python3.10/dist-packages (from aiohttp->datasets) (1.17.0)\n",
            "Requirement already satisfied: async-timeout<5.0,>=4.0 in /usr/local/lib/python3.10/dist-packages (from aiohttp->datasets) (4.0.3)\n",
            "Requirement already satisfied: charset-normalizer<4,>=2 in /usr/local/lib/python3.10/dist-packages (from requests->transformers) (3.4.0)\n",
            "Requirement already satisfied: idna<4,>=2.5 in /usr/local/lib/python3.10/dist-packages (from requests->transformers) (3.10)\n",
            "Requirement already satisfied: urllib3<3,>=1.21.1 in /usr/local/lib/python3.10/dist-packages (from requests->transformers) (2.2.3)\n",
            "Requirement already satisfied: certifi>=2017.4.17 in /usr/local/lib/python3.10/dist-packages (from requests->transformers) (2024.8.30)\n",
            "Requirement already satisfied: MarkupSafe>=2.0 in /usr/local/lib/python3.10/dist-packages (from jinja2->torch) (3.0.2)\n",
            "Requirement already satisfied: python-dateutil>=2.8.2 in /usr/local/lib/python3.10/dist-packages (from pandas->datasets) (2.8.2)\n",
            "Requirement already satisfied: pytz>=2020.1 in /usr/local/lib/python3.10/dist-packages (from pandas->datasets) (2024.2)\n",
            "Requirement already satisfied: tzdata>=2022.7 in /usr/local/lib/python3.10/dist-packages (from pandas->datasets) (2024.2)\n",
            "Requirement already satisfied: six>=1.5 in /usr/local/lib/python3.10/dist-packages (from python-dateutil>=2.8.2->pandas->datasets) (1.16.0)\n",
            "Requirement already satisfied: propcache>=0.2.0 in /usr/local/lib/python3.10/dist-packages (from yarl<2.0,>=1.12.0->aiohttp->datasets) (0.2.0)\n",
            "Downloading datasets-3.1.0-py3-none-any.whl (480 kB)\n",
            "\u001b[2K   \u001b[90m━━━━━━━━━━━━━━━━━━━━━━━━━━━━━━━━━━━━━━━━\u001b[0m \u001b[32m480.6/480.6 kB\u001b[0m \u001b[31m4.9 MB/s\u001b[0m eta \u001b[36m0:00:00\u001b[0m\n",
            "\u001b[?25hDownloading dill-0.3.8-py3-none-any.whl (116 kB)\n",
            "\u001b[2K   \u001b[90m━━━━━━━━━━━━━━━━━━━━━━━━━━━━━━━━━━━━━━━━\u001b[0m \u001b[32m116.3/116.3 kB\u001b[0m \u001b[31m5.9 MB/s\u001b[0m eta \u001b[36m0:00:00\u001b[0m\n",
            "\u001b[?25hDownloading fsspec-2024.9.0-py3-none-any.whl (179 kB)\n",
            "\u001b[2K   \u001b[90m━━━━━━━━━━━━━━━━━━━━━━━━━━━━━━━━━━━━━━━━\u001b[0m \u001b[32m179.3/179.3 kB\u001b[0m \u001b[31m5.5 MB/s\u001b[0m eta \u001b[36m0:00:00\u001b[0m\n",
            "\u001b[?25hDownloading multiprocess-0.70.16-py310-none-any.whl (134 kB)\n",
            "\u001b[2K   \u001b[90m━━━━━━━━━━━━━━━━━━━━━━━━━━━━━━━━━━━━━━━━\u001b[0m \u001b[32m134.8/134.8 kB\u001b[0m \u001b[31m7.0 MB/s\u001b[0m eta \u001b[36m0:00:00\u001b[0m\n",
            "\u001b[?25hDownloading xxhash-3.5.0-cp310-cp310-manylinux_2_17_x86_64.manylinux2014_x86_64.whl (194 kB)\n",
            "\u001b[2K   \u001b[90m━━━━━━━━━━━━━━━━━━━━━━━━━━━━━━━━━━━━━━━━\u001b[0m \u001b[32m194.1/194.1 kB\u001b[0m \u001b[31m9.7 MB/s\u001b[0m eta \u001b[36m0:00:00\u001b[0m\n",
            "\u001b[?25hInstalling collected packages: xxhash, fsspec, dill, multiprocess, datasets\n",
            "  Attempting uninstall: fsspec\n",
            "    Found existing installation: fsspec 2024.10.0\n",
            "    Uninstalling fsspec-2024.10.0:\n",
            "      Successfully uninstalled fsspec-2024.10.0\n",
            "\u001b[31mERROR: pip's dependency resolver does not currently take into account all the packages that are installed. This behaviour is the source of the following dependency conflicts.\n",
            "gcsfs 2024.10.0 requires fsspec==2024.10.0, but you have fsspec 2024.9.0 which is incompatible.\u001b[0m\u001b[31m\n",
            "\u001b[0mSuccessfully installed datasets-3.1.0 dill-0.3.8 fsspec-2024.9.0 multiprocess-0.70.16 xxhash-3.5.0\n"
          ]
        }
      ],
      "source": [
        "!pip install transformers datasets torch nltk\n"
      ]
    },
    {
      "cell_type": "code",
      "source": [
        "import json\n",
        "import torch\n",
        "from transformers import RobertaTokenizer, RobertaModel\n",
        "from sklearn.metrics.pairwise import cosine_similarity\n",
        "from nltk.translate.bleu_score import sentence_bleu\n"
      ],
      "metadata": {
        "id": "3_0VBxFhYZtV"
      },
      "execution_count": 12,
      "outputs": []
    },
    {
      "cell_type": "code",
      "source": [
        "# Load your JSON data\n",
        "with open('/content/qa_data.json', 'r') as f:\n",
        "    data = json.load(f)\n",
        "\n",
        "# Convert data into lists\n",
        "questions = [item['question'] for item in data]\n",
        "answers = [item['answer'] for item in data]\n"
      ],
      "metadata": {
        "id": "LMzAJgQeYlcN"
      },
      "execution_count": 13,
      "outputs": []
    },
    {
      "cell_type": "code",
      "source": [
        "# Load RoBERTa tokenizer and model\n",
        "tokenizer = RobertaTokenizer.from_pretrained('roberta-base')\n",
        "model = RobertaModel.from_pretrained('roberta-base')\n"
      ],
      "metadata": {
        "colab": {
          "base_uri": "https://localhost:8080/"
        },
        "id": "sY4SHw6NZCOj",
        "outputId": "2cdac0e9-4b76-4a3c-bebc-427101f0193a"
      },
      "execution_count": 14,
      "outputs": [
        {
          "output_type": "stream",
          "name": "stderr",
          "text": [
            "/usr/local/lib/python3.10/dist-packages/transformers/tokenization_utils_base.py:1601: FutureWarning: `clean_up_tokenization_spaces` was not set. It will be set to `True` by default. This behavior will be depracted in transformers v4.45, and will be then set to `False` by default. For more details check this issue: https://github.com/huggingface/transformers/issues/31884\n",
            "  warnings.warn(\n",
            "Some weights of RobertaModel were not initialized from the model checkpoint at roberta-base and are newly initialized: ['roberta.pooler.dense.bias', 'roberta.pooler.dense.weight']\n",
            "You should probably TRAIN this model on a down-stream task to be able to use it for predictions and inference.\n"
          ]
        }
      ]
    },
    {
      "cell_type": "code",
      "source": [
        "# Function to encode text\n",
        "def get_embeddings(text):\n",
        "    inputs = tokenizer(text, return_tensors='pt', truncation=True, padding=True, max_length=128)\n",
        "    with torch.no_grad():\n",
        "        embeddings = model(**inputs).last_hidden_state.mean(dim=1)  # Get mean pooled embeddings\n",
        "    return embeddings\n",
        "\n",
        "# Generate embeddings for all questions and answers\n",
        "question_embeddings = torch.cat([get_embeddings(q) for q in questions], dim=0)\n",
        "answer_embeddings = torch.cat([get_embeddings(a) for a in answers], dim=0)\n"
      ],
      "metadata": {
        "id": "ev6Xy1_mZJOO"
      },
      "execution_count": 15,
      "outputs": []
    },
    {
      "cell_type": "code",
      "source": [
        "def find_best_answer(query):\n",
        "    query_embedding = get_embeddings(query)\n",
        "    # Compute cosine similarity between query and all question embeddings\n",
        "    similarities = cosine_similarity(query_embedding, question_embeddings)[0]\n",
        "    best_match_idx = similarities.argmax()  # Index of the best matching question\n",
        "    return answers[best_match_idx]\n"
      ],
      "metadata": {
        "id": "g0CBKZt2ZdLW"
      },
      "execution_count": 16,
      "outputs": []
    },
    {
      "cell_type": "code",
      "source": [
        "# Example query\n",
        "query = \"what does registrar office do?\"\n",
        "response = find_best_answer(query)\n",
        "print(\"Query:\", query)\n",
        "print(\"Response:\", response)\n"
      ],
      "metadata": {
        "colab": {
          "base_uri": "https://localhost:8080/"
        },
        "id": "ZjEx7OOvZjUT",
        "outputId": "c20bc60f-1b22-48f3-e17b-7220f40e9b3b"
      },
      "execution_count": 31,
      "outputs": [
        {
          "output_type": "stream",
          "name": "stdout",
          "text": [
            "Query: what does registrar office do?\n",
            "Response: Plagiarism is using someone else’s work or ideas without proper acknowledgment. This includes copying text, paraphrasing without citation, and submitting someone else’s work as your own.\n"
          ]
        }
      ]
    },
    {
      "cell_type": "code",
      "source": [
        "#sample_queries = questions[:10]  # Replace with any sample questions for evaluation\n",
        "#sample_queries:['Which department manages course registration and schedules at Habib University?',\n",
        "# 'What steps should I take if I encounter a problem with my class schedule?',\n",
        "# 'Can you tell me where the Registrar’s Office is located at Habib University?',\n",
        "# 'What can I do to fix issues with my course schedule if I’m unable to go to the Registrar’s Office?',\n",
        "# 'How can I get in touch with the Registrar’s Office for general questions?',\n",
        "# 'How do I arrange a time to meet with my professors at Habib University?',\n",
        "# 'What are my options if my professor’s office hours don’t align with my schedule?',\n",
        "# 'If I’m unable to come to campus, can I arrange a virtual meeting with my professor?',\n",
        "# 'What kinds of topics can I bring up with my professor during office hours?',\n",
        "# 'Who can I contact for academic assistance at Habib University?']\n",
        "sample_queries:['At Habib University, who is in charge of managing course enrollments and timetables?',\n",
        " 'If I face an issue with my schedule, what steps should I consider?',\n",
        " 'Could you let me know the location of the Registrar’s Office at Habib University?',\n",
        " 'Is there any way to address scheduling issues without going to the Registrar’s Office in person?',\n",
        " 'What’s the best way to reach out to the Registrar’s Office if I have general questions?',\n",
        " 'What’s the process for booking a meeting with professors at Habib University?',\n",
        " 'What should I do if my availability doesn’t line up with my professor’s office hours?',\n",
        " 'Are there options for meeting my professor virtually if I can’t make it to campus?',\n",
        " 'What kind of concerns are appropriate to discuss with my professor during office hours?',\n",
        " 'If I need help academically, who at Habib University should I get in touch with?','Which department manages course registration and schedules at Habib University?',\n",
        " 'What steps should I take if I encounter a problem with my class schedule?',\n",
        " 'Can you tell me where the Registrar’s Office is located at Habib University?',\n",
        " 'What can I do to fix issues with my course schedule if I’m unable to go to the Registrar’s Office?',\n",
        " 'How can I get in touch with the Registrar’s Office for general questions?',\n",
        " 'How do I arrange a time to meet with my professors at Habib University?',\n",
        " 'What are my options if my professor’s office hours don’t align with my schedule?',\n",
        " 'If I’m unable to come to campus, can I arrange a virtual meeting with my professor?',\n",
        " 'What kinds of topics can I bring up with my professor during office hours?',\n",
        " 'Who can I contact for academic assistance at Habib University?']\n",
        "\n",
        "\n",
        "print(\"Sample Queries:\")\n",
        "print(sample_queries)\n",
        "predicted_answers = [find_best_answer(q) for q in sample_queries]\n",
        "print(\"Predicted Answers:\")\n",
        "print(predicted_answers)\n",
        "# Calculate BLEU scores\n",
        "bleu_scores = [sentence_bleu([ref], pred) for ref, pred in zip(answers[:10], predicted_answers)]\n",
        "avg_bleu_score = sum(bleu_scores) / len(bleu_scores)\n",
        "print(\"Average BLEU Score:\", avg_bleu_score)\n"
      ],
      "metadata": {
        "colab": {
          "base_uri": "https://localhost:8080/"
        },
        "id": "KnnrNeMbaYVg",
        "outputId": "68409d9f-3314-433b-a104-b8f24e35120b"
      },
      "execution_count": 32,
      "outputs": [
        {
          "output_type": "stream",
          "name": "stdout",
          "text": [
            "Sample Queries:\n",
            "['Which office handles class schedules and course enrollment at Habib University?', 'What should I do if I have a problem with my class schedule?', \"Where is the Registrar's Office located at Habib University?\", 'How can I resolve issues with my course schedule if I can’t visit the Registrar’s Office?', 'How do I contact the Registrar’s Office for general inquiries?', 'How can I book office hours with my professors at Habib University?', 'What should I do if the professor’s office hours don’t match my availability?', 'Can I meet with my professor virtually if I can’t come to campus?', 'What types of issues can I discuss with my professor during office hours?', 'Who can I reach out to for academic help at Habib University?']\n",
            "Predicted Answers:\n",
            "[\"The Office of Academic Systems and Registrar (RO) is responsible for handling class schedules and course enrollment at Habib University. If you encounter any issues with scheduling or enrollment, you can visit the Registrar's Office at the Student Center or email them at registrar-office@habib.edu.pk.\", 'If you face any problems with your class schedule, you can drop by the Registrar’s Office in the Student Center or reach out via email at registrar-office@habib.edu.pk for help.', \"The Registrar's Office is located in the Student Center at Habib University. You can visit them in person if you face any issues related to class schedules or enrollment.\", \"If you're unable to visit the Registrar's Office in person, you can email them at registrar-office@habib.edu.pk for assistance with course scheduling or any other academic issue.\", \"You can contact the Registrar's Office either by visiting their office in the Student Center or by sending an email to registrar-office@habib.edu.pk for any inquiries related to course schedules, enrollment, or other academic concerns. 2. Office of Academic Performance (Department 02):\", 'You can meet with your professors during their office hours. The office hours are listed in the academic systems and are visible on your Student Portal. If the available hours don’t match your schedule, you can email your professor and request a different appointment time. Make sure to include your Habib ID in the email when making the request.', 'If the office hours don’t align with your schedule, you can email your professor and request a different appointment time. Be sure to include your Habib ID when making the request.', 'Yes, if you are unable to come to campus, you can request a virtual meeting via Zoom or Microsoft Teams. Simply email your professor to arrange an online meeting.', 'You can discuss academic matters during office hours, and professors are also open to discussing other topics like career prospects or any other concerns you may have.', 'You can contact your faculty members for help with your courses. Additionally, your faculty advisor is available for any academic concerns. You can also reach out to the Office of Academic Performance (OAP), which can connect you to resources like the Student Resource (SR) Center, The Writing Center, or senior students for guidance.']\n",
            "Average BLEU Score: 1.0\n"
          ]
        }
      ]
    }
  ]
}